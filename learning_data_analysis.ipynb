{
 "cells": [
  {
   "cell_type": "code",
   "execution_count": null,
   "metadata": {},
   "outputs": [],
   "source": [
    "import numpy as np\n",
    "\n",
    "cost = 1.25\n",
    "profitMargin = .2\n",
    "numSold = 500\n",
    "\n",
    "totalPerSale = cost * profitMargin\n",
    "totalProfit = totalPerSale * numSold\n",
    "\n",
    "print(totalProfit)\n"
   ]
  },
  {
   "cell_type": "code",
   "execution_count": null,
   "metadata": {},
   "outputs": [],
   "source": [
    "output_template = \"\"\"If a grocery store sells ice bags at ${} per bag, with a profit margin of ${},\n",
    "then the total profit it makes by selling is ${}.\"\"\"\n",
    "\n",
    "message = output_template.format(cost, profitMargin, totalProfit)\n",
    "\n",
    "print(message)\n"
   ]
  },
  {
   "cell_type": "code",
   "execution_count": null,
   "metadata": {},
   "outputs": [],
   "source": [
    "import random\n",
    "\n",
    "num1 = random.randrange(100)\n",
    "num2 = random.randrange(100)\n",
    "\n",
    "def add(num1, num2):\n",
    "    res = num1 + num2\n",
    "    return res\n",
    "\n",
    "res_Temp=\"{} + {} = {}\"\n",
    "\n",
    "answer = res_Temp.format(num1, num2, add(num1, num2))\n",
    "\n",
    "print(answer)\n"
   ]
  },
  {
   "cell_type": "code",
   "execution_count": null,
   "metadata": {},
   "outputs": [],
   "source": [
    "import math\n",
    "\n",
    "#emi is equal monthly installments\n",
    "def loan_emi(amount, duration, rate, down_pmt = 0):\n",
    "    \"\"\"Calculates the equal monthly installments (emi) for a loan\"\"\"\n",
    "    loan_amount = amount-down_pmt\n",
    "    try:\n",
    "        emi = loan_amount * rate * ((1+rate)**duration) / (((1+rate)**duration)-1)\n",
    "    except ZeroDivisionError:\n",
    "        emi = loan_amount / duration\n",
    "    emi = math.ceil(emi)\n",
    "    return emi\n",
    "\n",
    "emi1 = loan_emi(amount = 1.26e6, duration = 8*12, rate = .1/12, down_pmt = 3e5)\n",
    "emi2 = loan_emi(amount = 1.26e6, duration = 10*12, rate = .08/12)\n",
    "\n",
    "if emi1 < emi2:\n",
    "    print(\"Option 1 has the lower EMI: ${} \".format(emi1))\n",
    "else:\n",
    "    print(\"Option 2 has the lower EMI: ${} \".format(emi2))\n"
   ]
  },
  {
   "cell_type": "code",
   "execution_count": null,
   "metadata": {},
   "outputs": [],
   "source": [
    "home_cost = 800000\n",
    "home_loan_duration = 6 * 12\n",
    "home_loan_rate = 0.07 / 12\n",
    "home_down_pmt = .25 * 800000\n",
    "\n",
    "emi_house = loan_emi(amount = home_cost, duration = home_loan_duration, rate = home_loan_rate, down_pmt = home_down_pmt)\n",
    "print('$',emi_house)\n",
    "\n",
    "cost_of_car = 60000\n",
    "car_loan_duration = 1 * 12\n",
    "car_loan_rate = .12 / 12\n",
    "\n",
    "emi_car = loan_emi(amount = cost_of_car, duration = car_loan_duration, rate = car_loan_rate)\n",
    "print(\"$\",emi_car)\n"
   ]
  },
  {
   "cell_type": "code",
   "execution_count": null,
   "metadata": {},
   "outputs": [],
   "source": [
    "emi_with_interest = loan_emi(amount=100000, duration=10*12, rate=0.09/12)\n",
    "print(emi_with_interest)\n",
    "\n",
    "emi_without_interest = loan_emi(amount=100000, duration=10*12, rate=0.0/12)\n",
    "print(emi_without_interest)\n",
    "\n",
    "total_interest = (emi_with_interest - emi_without_interest) * 10 * 12\n",
    "\n",
    "print(\"The total interest paid is: ${}\".format(total_interest))"
   ]
  },
  {
   "cell_type": "code",
   "execution_count": null,
   "metadata": {},
   "outputs": [],
   "source": [
    "def trip_calc(budget, days, city, flight_cost, hotel_pd_cost, car_rental_cost):\n",
    "    total_cost =  (days * hotel_pd_cost) + flight_cost + (car_rental_cost/7)\n",
    "    return(math.ceil(total_cost))\n",
    "\n",
    "print(\"${}\".format(trip_calc(1000, 7, \"Paris\", 200, 20, 200)))\n",
    "print(\"${}\".format(trip_calc(1000, 7, \"London\", 250, 30, 120)))\n",
    "print(\"${}\".format(trip_calc(1000, 7,\"Dubai\", 370, 15, 80)))\n",
    "print(\"${}\".format(trip_calc(1000, 7, \"Mumbai\", 450, 10, 70)))"
   ]
  },
  {
   "cell_type": "code",
   "execution_count": null,
   "metadata": {},
   "outputs": [],
   "source": [
    "w1, w2, w3 = 0.3, 0.2, 0.5\n",
    "weights = [w1, w2, w3]\n",
    "kanto = [73, 67, 43]\n",
    "johto = [91, 88, 64]\n",
    "hoenn = [87, 134, 58]\n",
    "sinnoh = [102, 43, 37]\n",
    "unova = [69, 96, 70]\n",
    "\n",
    "def crop_yeild(region, weights):\n",
    "    result = 0\n",
    "    for x, y in zip(region, weights):\n",
    "        result += x * y\n",
    "    return result\n",
    "\n",
    "print(\"The expected yeild of apples in Kanto is {} tons per hectare\".format(crop_yeild(kanto, weights)))\n",
    "\n"
   ]
  },
  {
   "cell_type": "code",
   "execution_count": null,
   "metadata": {},
   "outputs": [],
   "source": [
    "kanto = np.array([73, 67, 43])\n",
    "\n",
    "kanto"
   ]
  },
  {
   "cell_type": "code",
   "execution_count": null,
   "metadata": {},
   "outputs": [],
   "source": [
    "def fizzBuzz(i):\n",
    "    for n in range(i):\n",
    "        if(n % 2 == 0):\n",
    "            print(\"{} Fizz\".format(n))\n",
    "        elif(n % 5 == 0):\n",
    "            print(\"{} Buzz\".format(n))\n",
    "        else:\n",
    "            print(\"{} fizzBuzz\".format(n))\n",
    "\n",
    "print(fizzBuzz(15))"
   ]
  },
  {
   "cell_type": "code",
   "execution_count": 45,
   "metadata": {},
   "outputs": [
    {
     "name": "stdout",
     "output_type": "stream",
     "text": [
      "Eat somethithing cheap\n"
     ]
    }
   ],
   "source": [
    "money_available = int(input(\"How much money do you have? \"))\n",
    "\n",
    "if(money_available >= 80):\n",
    "    print(\"Eat something fancy\")\n",
    "elif(money_available > 45):\n",
    "    print(\"Eat something nice\")\n",
    "elif(money_available > 15):\n",
    "    print(\"Eat something okay\")\n",
    "else:\n",
    "    print('Eat somethithing cheap')\n"
   ]
  },
  {
   "cell_type": "code",
   "execution_count": 54,
   "metadata": {},
   "outputs": [
    {
     "name": "stdout",
     "output_type": "stream",
     "text": [
      "I have enough moeny\n",
      "And I am hungry\n",
      "I'll eat something fancy\n"
     ]
    }
   ],
   "source": [
    "money_available = 81\n",
    "hungry = True\n",
    "bored = True\n",
    "if(money_available > 80):\n",
    "    print(\"I have enough moeny\")\n",
    "    if(hungry):\n",
    "         print('And I am hungry')\n",
    "         if(bored):\n",
    "              print('I\\'ll eat something fancy')\n",
    "\n",
    "         \n"
   ]
  },
  {
   "cell_type": "code",
   "execution_count": null,
   "metadata": {},
   "outputs": [],
   "source": []
  }
 ],
 "metadata": {
  "kernelspec": {
   "display_name": "Python 3",
   "language": "python",
   "name": "python3"
  },
  "language_info": {
   "codemirror_mode": {
    "name": "ipython",
    "version": 3
   },
   "file_extension": ".py",
   "mimetype": "text/x-python",
   "name": "python",
   "nbconvert_exporter": "python",
   "pygments_lexer": "ipython3",
   "version": "3.11.0"
  }
 },
 "nbformat": 4,
 "nbformat_minor": 2
}
