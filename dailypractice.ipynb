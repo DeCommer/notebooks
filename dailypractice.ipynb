{
 "cells": [
  {
   "cell_type": "code",
   "execution_count": 151,
   "metadata": {},
   "outputs": [
    {
     "name": "stdout",
     "output_type": "stream",
     "text": [
      "The number of heights in the list is: 7\n",
      "The sum of the heights is: 1870\n",
      "The average height is: 267\n",
      "The max height is: 1000\n",
      "The min height is: 13\n"
     ]
    }
   ],
   "source": [
    "heights = [1000, 156, 178, 165, 13, 171, 187]\n",
    "\n",
    "number_of_heights = 0\n",
    "total_height = 0\n",
    "max_height = 0\n",
    "min_height = heights[0]\n",
    "\n",
    "for height in heights:\n",
    "    number_of_heights += 1 # Gives total amount of items in list\n",
    "    total_height += height # \n",
    "    \n",
    "\n",
    "    if height > max_height: # Gives Max depending on initial value of 0\n",
    "        max_height = height\n",
    "\n",
    "    if height < min_height: # Gives min depending on initial value of first index\n",
    "        min_height = height\n",
    " \n",
    "average_height = round(total_height / number_of_heights)\n",
    "\n",
    "print(f\"The number of heights in the list is: {number_of_heights}\")\n",
    "print(f\"The sum of the heights is: {total_height}\")\n",
    "print(f\"The average height is: {average_height}\")\n",
    "print(f\"The max height is: {max_height}\")\n",
    "print(f\"The min height is: {min_height}\")\n"
   ]
  },
  {
   "cell_type": "code",
   "execution_count": 3,
   "metadata": {},
   "outputs": [
    {
     "name": "stdout",
     "output_type": "stream",
     "text": [
      "6pn3%%wB6VPj\n"
     ]
    }
   ],
   "source": [
    "import random\n",
    "\n",
    "alpha = ['a', 'b', 'c', 'd', 'e', 'f', 'g', 'h', 'i', 'j', 'k', 'l', 'm', 'n', 'o', 'p', 'q', 'r', 's', 't', \n",
    "        'u', 'v', 'w', 'x', 'y', 'z', 'A', 'B', 'C', 'D', 'E', 'F', 'G', 'H', 'I', 'J', 'K', 'L', 'M', 'N',\n",
    "        'O', 'P', 'Q', 'R', 'S', 'T', 'U', 'V', 'W', 'X','Y', 'Z',\n",
    "        '0', '1', '2', '3', '4', '5', '6', '7', '8' ,'9',\n",
    "        '!', '@', '#', '$', '%', '&', '*', '?', '~']\n",
    "final_pass = []\n",
    "n_letters = int(input(\"How many characters? \"))\n",
    "\n",
    "for ch in range(1, n_letters + 1):\n",
    "    final_pass.append(random.choice(alpha))\n",
    "\n",
    "random.shuffle(final_pass)\n",
    "final_rand_password = \"\"\n",
    "\n",
    "for char in final_pass:\n",
    "    final_rand_password += char\n",
    "\n",
    "print(final_rand_password)\n"
   ]
  },
  {
   "cell_type": "code",
   "execution_count": 25,
   "metadata": {},
   "outputs": [
    {
     "name": "stdout",
     "output_type": "stream",
     "text": [
      "2\n",
      "4\n",
      "6\n",
      "8\n",
      "10\n"
     ]
    }
   ],
   "source": [
    "n = 2\n",
    "while n <= 10:\n",
    "    print(n)\n",
    "    n += 2\n",
    "\n",
    "    "
   ]
  },
  {
   "cell_type": "code",
   "execution_count": 3,
   "metadata": {},
   "outputs": [
    {
     "name": "stdout",
     "output_type": "stream",
     "text": [
      "You got it!\n"
     ]
    }
   ],
   "source": [
    "guess = input(\"try to guess the password: \")\n",
    "password = \"the\"\n",
    "\n",
    "while guess != password:\n",
    "    guess = input(\"try again: \")\n",
    "\n",
    "print(\"You got it!\")\n"
   ]
  }
 ],
 "metadata": {
  "kernelspec": {
   "display_name": "Python 3",
   "language": "python",
   "name": "python3"
  },
  "language_info": {
   "codemirror_mode": {
    "name": "ipython",
    "version": 3
   },
   "file_extension": ".py",
   "mimetype": "text/x-python",
   "name": "python",
   "nbconvert_exporter": "python",
   "pygments_lexer": "ipython3",
   "version": "3.12.1"
  }
 },
 "nbformat": 4,
 "nbformat_minor": 2
}
