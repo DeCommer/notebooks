{
 "cells": [
  {
   "cell_type": "code",
   "execution_count": null,
   "metadata": {},
   "outputs": [],
   "source": [
    "heights = [1000, 156, 178, 165, 13, 171, 187]\n",
    "\n",
    "number_of_heights = 0\n",
    "total_height = 0\n",
    "max_height = 0\n",
    "min_height = heights[0]\n",
    "\n",
    "for height in heights:\n",
    "    number_of_heights += 1 # Gives total amount of items in list\n",
    "    total_height += height # \n",
    "    \n",
    "\n",
    "    if height > max_height: # Gives Max depending on initial value of 0\n",
    "        max_height = height\n",
    "\n",
    "    if height < min_height: # Gives min depending on initial value of first index\n",
    "        min_height = height\n",
    " \n",
    "average_height = round(total_height / number_of_heights)\n",
    "\n",
    "print(f\"The number of heights in the list is: {number_of_heights}\")\n",
    "print(f\"The sum of the heights is: {total_height}\")\n",
    "print(f\"The average height is: {average_height}\")\n",
    "print(f\"The max height is: {max_height}\")\n",
    "print(f\"The min height is: {min_height}\")\n"
   ]
  },
  {
   "cell_type": "code",
   "execution_count": null,
   "metadata": {},
   "outputs": [],
   "source": [
    "import random\n",
    "\n",
    "alpha = ['a', 'b', 'c', 'd', 'e', 'f', 'g', 'h', 'i', 'j', 'k', 'l', 'm', 'n', 'o', 'p', 'q', 'r', 's', 't', \n",
    "        'u', 'v', 'w', 'x', 'y', 'z', 'A', 'B', 'C', 'D', 'E', 'F', 'G', 'H', 'I', 'J', 'K', 'L', 'M', 'N',\n",
    "        'O', 'P', 'Q', 'R', 'S', 'T', 'U', 'V', 'W', 'X','Y', 'Z',\n",
    "        '0', '1', '2', '3', '4', '5', '6', '7', '8' ,'9',\n",
    "        '!', '@', '#', '$', '%', '&', '*', '?', '~']\n",
    "final_pass = []\n",
    "n_letters = int(input(\"How many characters? \"))\n",
    "\n",
    "for ch in range(1, n_letters + 1):\n",
    "    final_pass.append(random.choice(alpha))\n",
    "\n",
    "random.shuffle(final_pass)\n",
    "final_rand_password = \"\"\n",
    "\n",
    "for char in final_pass:\n",
    "    final_rand_password += char\n",
    "\n",
    "print(final_rand_password)\n"
   ]
  },
  {
   "cell_type": "code",
   "execution_count": null,
   "metadata": {},
   "outputs": [],
   "source": [
    "n = 2\n",
    "while n <= 10:\n",
    "    print(n)\n",
    "    n += 2\n",
    "\n",
    "    "
   ]
  },
  {
   "cell_type": "code",
   "execution_count": null,
   "metadata": {},
   "outputs": [],
   "source": [
    "guess = input(\"try to guess the password: \")\n",
    "password = \"the\"\n",
    "\n",
    "while guess != password:\n",
    "    guess = input(\"try again: \")\n",
    "\n",
    "print(\"You got it!\")\n"
   ]
  },
  {
   "cell_type": "code",
   "execution_count": null,
   "metadata": {},
   "outputs": [],
   "source": [
    "import random, math\n",
    "\n",
    "rand_num = random.randint(1, 10)\n",
    "wall_height = rand_num\n",
    "wall_width = rand_num\n",
    "coverage_per_can = 5\n",
    "\n",
    "def paint_calc(wall_height, wall_width):\n",
    "    number_of_cans = (wall_height * wall_width) / coverage_per_can\n",
    "    return math.ceil(number_of_cans)\n",
    "\n",
    "\n",
    "print(paint_calc(wall_height, wall_width))"
   ]
  },
  {
   "cell_type": "code",
   "execution_count": null,
   "metadata": {},
   "outputs": [],
   "source": [
    "import random\n",
    "\n",
    "'''\n",
    "Prime numbers from 1 to 100 are: 2, 3, 5, 7, 11, 13, 17, \n",
    "19, 23, 29, 31, 37, 41, 43, 47, 53, 59, 61, 67, 71, 73, \n",
    "79, 83, 89, 97.\n",
    "'''\n",
    "\n",
    "num = random.randint(1, 100)\n",
    "\n",
    "def is_prime(num):\n",
    "    prime = True\n",
    "    for i in range(2, num):\n",
    "        if(num % i == 0):\n",
    "            prime = False\n",
    "    if prime:\n",
    "        print(f\"{num} is a prime number\")\n",
    "    else:\n",
    "        print(f\"{num} is not a prime number\")\n",
    "            \n",
    "\n",
    "is_prime(num)"
   ]
  },
  {
   "cell_type": "code",
   "execution_count": 63,
   "metadata": {},
   "outputs": [
    {
     "name": "stdout",
     "output_type": "stream",
     "text": [
      "You have 2 guesses left\n",
      "You have 1 guesses left\n",
      "You lose\n",
      "The secret number was: 7\n"
     ]
    }
   ],
   "source": [
    "import random\n",
    "\n",
    "secret_number = random.randint(0, 10)\n",
    "\n",
    "guesses = 3\n",
    "user_guess = int(input(f\"Guess the secret number between 1 and 10. You have 3 guesses: \"))\n",
    "\n",
    "while guesses != 1 :\n",
    "    print(f\"You have {guesses -1} guesses left\")\n",
    "    if user_guess > secret_number:\n",
    "        guesses -= 1\n",
    "        user_guess = int(input(f\"That is too high. You have {guesses} guesses: \"))\n",
    "\n",
    "    elif user_guess < secret_number:\n",
    "        guesses -= 1\n",
    "        user_guess = int(input(f\"That is too low. You have {guesses} guesses: \"))\n",
    "    \n",
    "    if(user_guess == secret_number):\n",
    "        print(\"You did it!\")\n",
    "        break\n",
    "\n",
    "else:\n",
    "    print(\"You lose\")\n",
    "    print(f\"The secret number was: {secret_number}\")\n",
    "\n"
   ]
  },
  {
   "cell_type": "code",
   "execution_count": null,
   "metadata": {},
   "outputs": [],
   "source": []
  },
  {
   "cell_type": "code",
   "execution_count": null,
   "metadata": {},
   "outputs": [],
   "source": []
  }
 ],
 "metadata": {
  "kernelspec": {
   "display_name": "Python 3",
   "language": "python",
   "name": "python3"
  },
  "language_info": {
   "codemirror_mode": {
    "name": "ipython",
    "version": 3
   },
   "file_extension": ".py",
   "mimetype": "text/x-python",
   "name": "python",
   "nbconvert_exporter": "python",
   "pygments_lexer": "ipython3",
   "version": "3.12.1"
  }
 },
 "nbformat": 4,
 "nbformat_minor": 2
}
