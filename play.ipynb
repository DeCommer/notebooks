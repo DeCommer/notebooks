{
 "cells": [
  {
   "cell_type": "code",
   "execution_count": 108,
   "metadata": {},
   "outputs": [
    {
     "name": "stdout",
     "output_type": "stream",
     "text": [
      "23\n",
      "salt\n"
     ]
    }
   ],
   "source": [
    "# Random word generator\n",
    "\n",
    "import random\n",
    "\n",
    "words = [\"stay\",\"surprise\",\"slightly\"\n",
    "\"fully\",\"another\",\"police\",\n",
    "\"was\",\"policeman\",\"composed\",\n",
    "\"building\",\"shells\",\"fresh\",\n",
    "\"brain\",\"crack\",\"however\",\n",
    "\"rabbit\",\"weather\",\"salt\",\n",
    "\"fur\",\"country\",\"these\",\n",
    "\"label\",\"motor\",\"range\"]\n",
    "\n",
    "\n",
    "rand_number = random.randint(0, 22)\n",
    "rand_word = words[rand_number]\n",
    "\n",
    "print(len(words))\n",
    "print(rand_word)"
   ]
  },
  {
   "cell_type": "code",
   "execution_count": 1,
   "metadata": {},
   "outputs": [
    {
     "name": "stdout",
     "output_type": "stream",
     "text": [
      "        1    2    3    4    5    6    7    8    9   10   11   12 \n",
      "-----------------------------------------------------------------\n",
      " 1 |    1    2    3    4    5    6    7    8    9   10   11   12 \n",
      " 2 |    2    4    6    8   10   12   14   16   18   20   22   24 \n",
      " 3 |    3    6    9   12   15   18   21   24   27   30   33   36 \n",
      " 4 |    4    8   12   16   20   24   28   32   36   40   44   48 \n",
      " 5 |    5   10   15   20   25   30   35   40   45   50   55   60 \n",
      " 6 |    6   12   18   24   30   36   42   48   54   60   66   72 \n",
      " 7 |    7   14   21   28   35   42   49   56   63   70   77   84 \n",
      " 8 |    8   16   24   32   40   48   56   64   72   80   88   96 \n",
      " 9 |    9   18   27   36   45   54   63   72   81   90   99  108 \n",
      "10 |   10   20   30   40   50   60   70   80   90  100  110  120 \n",
      "11 |   11   22   33   44   55   66   77   88   99  110  121  132 \n",
      "12 |   12   24   36   48   60   72   84   96  108  120  132  144 \n"
     ]
    }
   ],
   "source": [
    "def multiplication_table():\n",
    "    n = 12\n",
    "    \n",
    "    print(\"    \", end=\" \")\n",
    "    for i in range(1, n + 1):\n",
    "        print(f\"{i:4}\", end=\" \")\n",
    "    print(\"\\n\" + \"-\" * (n + 1) * 5)\n",
    "\n",
    "    for i in range(1, n + 1):\n",
    "        print(f\"{i:2} |\", end=\" \")\n",
    "        for j in range(1, n + 1):\n",
    "            result = i * j\n",
    "            print(f\"{result:4}\", end=\" \")\n",
    "        print()\n",
    "\n",
    "multiplication_table()"
   ]
  },
  {
   "cell_type": "code",
   "execution_count": 11,
   "metadata": {},
   "outputs": [
    {
     "name": "stdout",
     "output_type": "stream",
     "text": [
      "Attempt {} of 10\r"
     ]
    }
   ],
   "source": [
    "import time\n",
    "\n",
    "\n",
    "for i in range(1,1000000):\n",
    "    print(\"\\tattempt {0} of 100\".format(i), end=\"\\r\")\n",
    "\n",
    "\n",
    "\n",
    "\n",
    "\n"
   ]
  },
  {
   "cell_type": "code",
   "execution_count": 34,
   "metadata": {},
   "outputs": [
    {
     "name": "stdout",
     "output_type": "stream",
     "text": [
      "Green \r"
     ]
    },
    {
     "ename": "KeyboardInterrupt",
     "evalue": "",
     "output_type": "error",
     "traceback": [
      "\u001b[0;31m---------------------------------------------------------------------------\u001b[0m",
      "\u001b[0;31mKeyboardInterrupt\u001b[0m                         Traceback (most recent call last)",
      "Cell \u001b[0;32mIn[34], line 9\u001b[0m\n\u001b[1;32m      7\u001b[0m time\u001b[38;5;241m.\u001b[39msleep(\u001b[38;5;241m5\u001b[39m)\n\u001b[1;32m      8\u001b[0m \u001b[38;5;28mprint\u001b[39m(\u001b[38;5;124mf\u001b[39m\u001b[38;5;124m\"\u001b[39m\u001b[38;5;132;01m{\u001b[39;00mlights[\u001b[38;5;241m1\u001b[39m]\u001b[38;5;132;01m}\u001b[39;00m\u001b[38;5;124m\"\u001b[39m, end\u001b[38;5;241m=\u001b[39m\u001b[38;5;124m'\u001b[39m\u001b[38;5;130;01m\\r\u001b[39;00m\u001b[38;5;124m'\u001b[39m)\n\u001b[0;32m----> 9\u001b[0m \u001b[43mtime\u001b[49m\u001b[38;5;241;43m.\u001b[39;49m\u001b[43msleep\u001b[49m\u001b[43m(\u001b[49m\u001b[38;5;241;43m5\u001b[39;49m\u001b[43m)\u001b[49m\n\u001b[1;32m     10\u001b[0m \u001b[38;5;28mprint\u001b[39m(\u001b[38;5;124mf\u001b[39m\u001b[38;5;124m\"\u001b[39m\u001b[38;5;132;01m{\u001b[39;00mlights[\u001b[38;5;241m2\u001b[39m]\u001b[38;5;132;01m}\u001b[39;00m\u001b[38;5;124m\"\u001b[39m, end\u001b[38;5;241m=\u001b[39m\u001b[38;5;124m'\u001b[39m\u001b[38;5;130;01m\\r\u001b[39;00m\u001b[38;5;124m'\u001b[39m)\n\u001b[1;32m     11\u001b[0m time\u001b[38;5;241m.\u001b[39msleep(\u001b[38;5;241m1\u001b[39m)\n",
      "\u001b[0;31mKeyboardInterrupt\u001b[0m: "
     ]
    }
   ],
   "source": [
    "import time\n",
    "\n",
    "lights = [\"Red   \",\"Green \", \"Yellow\" ]\n",
    "\n",
    "while True:\n",
    "    print(f\"{lights[0]}\", end='\\r')\n",
    "    time.sleep(5)\n",
    "    print(f\"{lights[1]}\", end='\\r')\n",
    "    time.sleep(5)\n",
    "    print(f\"{lights[2]}\", end='\\r')\n",
    "    time.sleep(1)\n"
   ]
  },
  {
   "cell_type": "code",
   "execution_count": null,
   "metadata": {},
   "outputs": [],
   "source": []
  },
  {
   "cell_type": "code",
   "execution_count": null,
   "metadata": {},
   "outputs": [],
   "source": []
  }
 ],
 "metadata": {
  "kernelspec": {
   "display_name": "Python 3",
   "language": "python",
   "name": "python3"
  },
  "language_info": {
   "codemirror_mode": {
    "name": "ipython",
    "version": 3
   },
   "file_extension": ".py",
   "mimetype": "text/x-python",
   "name": "python",
   "nbconvert_exporter": "python",
   "pygments_lexer": "ipython3",
   "version": "3.12.1"
  }
 },
 "nbformat": 4,
 "nbformat_minor": 2
}
