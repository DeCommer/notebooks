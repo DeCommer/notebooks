{
 "cells": [
  {
   "cell_type": "code",
   "execution_count": 108,
   "metadata": {},
   "outputs": [
    {
     "name": "stdout",
     "output_type": "stream",
     "text": [
      "23\n",
      "salt\n"
     ]
    }
   ],
   "source": [
    "# Random word generator\n",
    "\n",
    "import random\n",
    "\n",
    "words = [\"stay\",\"surprise\",\"slightly\"\n",
    "\"fully\",\"another\",\"police\",\n",
    "\"was\",\"policeman\",\"composed\",\n",
    "\"building\",\"shells\",\"fresh\",\n",
    "\"brain\",\"crack\",\"however\",\n",
    "\"rabbit\",\"weather\",\"salt\",\n",
    "\"fur\",\"country\",\"these\",\n",
    "\"label\",\"motor\",\"range\"]\n",
    "\n",
    "\n",
    "rand_number = random.randint(0, 22)\n",
    "rand_word = words[rand_number]\n",
    "\n",
    "print(len(words))\n",
    "print(rand_word)"
   ]
  },
  {
   "cell_type": "code",
   "execution_count": 126,
   "metadata": {},
   "outputs": [
    {
     "name": "stdout",
     "output_type": "stream",
     "text": [
      "Welcome to Truth or Dare!\n"
     ]
    },
    {
     "ename": "SyntaxError",
     "evalue": "'continue' not properly in loop (2460151638.py, line 18)",
     "output_type": "error",
     "traceback": [
      "\u001b[0;36m  Cell \u001b[0;32mIn [126], line 18\u001b[0;36m\u001b[0m\n\u001b[0;31m    continue\u001b[0m\n\u001b[0m    ^\u001b[0m\n\u001b[0;31mSyntaxError\u001b[0m\u001b[0;31m:\u001b[0m 'continue' not properly in loop\n"
     ]
    }
   ],
   "source": [
    "# Truth or Dare\n",
    "\n",
    "print(\"Welcome to Truth or Dare!\")\n",
    "truth_or_dare = input(\"Do you choose Truth or dare? \").lower()\n",
    "\n",
    "if(truth_or_dare == \"truth\"):\n",
    "    t_ans = input(\"Have you ever stuck your finger in your butt? \").lower\n",
    "    if t_ans == \"yes\":\n",
    "        print(\"That's pretty gross, dude. You need some help getting that smell out.\")\n",
    "    elif t_ans == \"no\":\n",
    "        print(\"What? You've never know such pleasure! Go ahead and try. I'll wait.\")\n",
    "\n",
    "elif(truth_or_dare == \"dare\"):\n",
    "    print(\"I dare you to sniff MY finger!\")\n",
    "\n",
    "else:\n",
    "    print(\"Enter either TRUTH or DARE\")"
   ]
  },
  {
   "cell_type": "code",
   "execution_count": null,
   "metadata": {},
   "outputs": [],
   "source": []
  }
 ],
 "metadata": {
  "kernelspec": {
   "display_name": "Python 3",
   "language": "python",
   "name": "python3"
  },
  "language_info": {
   "codemirror_mode": {
    "name": "ipython",
    "version": 3
   },
   "file_extension": ".py",
   "mimetype": "text/x-python",
   "name": "python",
   "nbconvert_exporter": "python",
   "pygments_lexer": "ipython3",
   "version": "3.11.0"
  }
 },
 "nbformat": 4,
 "nbformat_minor": 2
}
