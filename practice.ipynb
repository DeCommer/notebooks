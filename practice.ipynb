{
 "cells": [
  {
   "cell_type": "markdown",
   "metadata": {},
   "source": [
    "# Random Stuff"
   ]
  },
  {
   "cell_type": "code",
   "execution_count": 14,
   "metadata": {},
   "outputs": [
    {
     "name": "stdout",
     "output_type": "stream",
     "text": [
      "Hello, Joseph! You will be 100 years old in 2080.\n"
     ]
    }
   ],
   "source": [
    "user_name = input('What is your name? ')\n",
    "user_age = int(input('How old are you? '))\n",
    "age_till_100 = 100 - user_age\n",
    "year_at_100 = age_till_100 + 2024\n",
    "print(f\"Hello, {user_name}! You will be 100 years old in {year_at_100}.\")"
   ]
  },
  {
   "cell_type": "code",
   "execution_count": 15,
   "metadata": {},
   "outputs": [
    {
     "name": "stdout",
     "output_type": "stream",
     "text": [
      "32 is an even number.\n"
     ]
    }
   ],
   "source": [
    "even_or_odd = int(input(\"Enter a number and I will tell whether it is even or odd: \"))\n",
    "if(even_or_odd % 2 == 0):\n",
    "    print(f\"{even_or_odd} is an even number.\")\n",
    "else:\n",
    "    print(f\"{even_or_odd} is an odd number.\")"
   ]
  },
  {
   "cell_type": "code",
   "execution_count": null,
   "metadata": {},
   "outputs": [],
   "source": [
    "# num = 10 # Can be replaced with a user input\n",
    "# for n in range(1, num+1):\n",
    "#     if num % n == 0:\n",
    "#         print(n)\n",
    "\n",
    "#Using lists\n",
    "div_list = []\n",
    "div_num = int(input(\"Enter a number: \"))\n",
    "for i in range(1, div_num +1):\n",
    "    if div_num % i == 0:\n",
    "        div_list.append(i)\n",
    "        print(i)"
   ]
  },
  {
   "cell_type": "code",
   "execution_count": 17,
   "metadata": {},
   "outputs": [
    {
     "name": "stdout",
     "output_type": "stream",
     "text": [
      "-19C is -2.2F\n"
     ]
    }
   ],
   "source": [
    "c_num = int(input(\"Enter a temp in C to get F:\"))\n",
    "f_num = c_num * 9 / 5 + 32\n",
    "print(f\"{c_num}C is {round(f_num, 2)}F\")\n"
   ]
  },
  {
   "cell_type": "markdown",
   "metadata": {},
   "source": [
    "# Sympy Stuff"
   ]
  },
  {
   "cell_type": "code",
   "execution_count": 25,
   "metadata": {},
   "outputs": [
    {
     "data": {
      "text/plain": [
       "[-2*I, 2*I]"
      ]
     },
     "execution_count": 25,
     "metadata": {},
     "output_type": "execute_result"
    }
   ],
   "source": [
    "from sympy import symbols\n",
    "var('x y')\n",
    "eq = x ** 2 + 4\n",
    "#sympy.factor(eq)\n",
    "sympy.solve(eq)"
   ]
  },
  {
   "cell_type": "code",
   "execution_count": 26,
   "metadata": {},
   "outputs": [
    {
     "name": "stdout",
     "output_type": "stream",
     "text": [
      "The decimal is  0.45\n",
      "The fraction is  45 / 100\n",
      "The percent is  45.0 %\n"
     ]
    }
   ],
   "source": [
    "# Decimal to fraction and percent\n",
    "digits = input(\"Enter a decimal to convert: \")\n",
    "exp = int(len(digits))-1\n",
    "n = float(digits)\n",
    "numerator = int(n * 10 ** exp)\n",
    "denominator = 10 ** exp\n",
    "\n",
    "percent = n * 100\n",
    "\n",
    "print(\"The decimal is \", n)\n",
    "print(\"The fraction is \", numerator, \"/\", denominator)\n",
    "print(\"The percent is \", percent, '%')"
   ]
  },
  {
   "cell_type": "code",
   "execution_count": 34,
   "metadata": {},
   "outputs": [
    {
     "name": "stdout",
     "output_type": "stream",
     "text": [
      "x \t y\n",
      "----------\n",
      "0 \t 3\n",
      "1 \t 5\n",
      "2 \t 7\n",
      "3 \t 9\n",
      "4 \t 11\n",
      "5 \t 13\n",
      "6 \t 15\n",
      "7 \t 17\n",
      "8 \t 19\n",
      "9 \t 21\n",
      "10 \t 23\n"
     ]
    }
   ],
   "source": [
    "print(\"x \\t y\")\n",
    "print(\"----------\")\n",
    "\n",
    "def f(x):\n",
    "    y = 2 * x + 3\n",
    "    return y\n",
    "\n",
    "for x in range(11):\n",
    "    print(x, \"\\t\", f(x))\n"
   ]
  },
  {
   "cell_type": "markdown",
   "metadata": {},
   "source": [
    "# Plotting"
   ]
  },
  {
   "cell_type": "code",
   "execution_count": 107,
   "metadata": {},
   "outputs": [
    {
     "name": "stdout",
     "output_type": "stream",
     "text": [
      "Slope =  2.0\n"
     ]
    },
    {
     "data": {
      "image/png": "[encoded data removed]",
      "text/plain": [
       "<Figure size 640x480 with 1 Axes>"
      ]
     },
     "metadata": {},
     "output_type": "display_data"
    }
   ],
   "source": [
    "import matplotlib .pyplot as plt\n",
    "import numpy as np\n",
    "\n",
    "xmin = -10\n",
    "xmax = 10\n",
    "ymin = -10\n",
    "ymax = 10\n",
    "\n",
    "points = 2*(xmax-xmin)\n",
    "x = np.linspace(xmin, xmax, points)\n",
    "\n",
    "fig, ax = plt.subplots()\n",
    "plt.axis([xmin, xmax, ymin, ymax])\n",
    "plt.plot([xmin, xmax], [0,0], 'c')\n",
    "plt.plot([0,0],[ymin, ymax], 'c')\n",
    "ax.grid(True)\n",
    "\n",
    "ax.set_xlabel(\"x\")\n",
    "ax.set_ylabel(\"y\")\n",
    "ax.set_title(\"Graph\")\n",
    "\n",
    "ax.set_xticks(np.arange(xmin, xmax, 1))\n",
    "ax.set_yticks(np.arange(ymin, ymax, 1))\n",
    "\n",
    "plt.plot([1], [3], 'ro')\n",
    "plt.plot([3], [7], 'ro')\n",
    "\n",
    "# for x in range(10):\n",
    "#     y = x\n",
    "#     plt.plot([x], [y], 'ro')\n",
    "\n",
    "x1 = 1\n",
    "y1 = 3\n",
    "x2 = 3\n",
    "y2 = 7\n",
    "\n",
    "n = (y2 - y1)\n",
    "d = (x2 - x1)\n",
    "\n",
    "slope = n / d\n",
    "\n",
    "print(\"Slope = \", slope)\n",
    "\n",
    "y = 2 * x + 1\n",
    "plt.plot(x, y, 'orange')\n",
    "\n",
    "plt.show()"
   ]
  },
  {
   "cell_type": "code",
   "execution_count": 116,
   "metadata": {},
   "outputs": [
    {
     "name": "stdout",
     "output_type": "stream",
     "text": [
      "y =  10.5 x +  55.0\n"
     ]
    },
    {
     "data": {
      "image/png": "[encoded data removed]",
      "text/plain": [
       "<Figure size 640x480 with 1 Axes>"
      ]
     },
     "metadata": {},
     "output_type": "display_data"
    }
   ],
   "source": [
    "'''A town's population increases at a constant rate. In 2010 the population was 55,000. By 2012 the\n",
    "population had increased to 76,000. If this trend continues, predict the population in 2016.'''\n",
    "\n",
    "x1 = 0\n",
    "y1 = 55\n",
    "x2 = 2\n",
    "y2 = 76\n",
    "\n",
    "# Turning x and y values into equation\n",
    "m = (y2 - y1) / (x2 - x1)\n",
    "b = y1 - m * x1\n",
    "print(\"y = \", m, \"x + \", b)\n",
    "\n",
    "# The graph measurements\n",
    "xmin = 0\n",
    "xmax = 10\n",
    "ymin = 0\n",
    "ymax = 150\n",
    "\n",
    "# The line\n",
    "y3 = m * xmin + b\n",
    "y4 = m * xmax + b\n",
    "\n",
    "# graph setup\n",
    "fig, ax = plt.subplots()\n",
    "plt.axis([xmin, xmax, ymin, ymax])\n",
    "plt.plot([xmin, xmax], [0, 0], 'b')\n",
    "plt.plot([0, 0], [ymin, ymax], 'b')\n",
    "\n",
    "# Plot a point\n",
    "plt.plot([6], [118], 'ro')\n",
    "\n",
    "# Labels\n",
    "ax.set_title(\"Function of Population Over Time\")\n",
    "ax.set_xlabel(\"Time\")\n",
    "ax.set_ylabel(\"Population\")\n",
    "ax.grid(True)\n",
    "\n",
    "plt.plot([xmin, xmax], [y3, y4], 'r')\n",
    "\n",
    "plt.show()\n",
    "\n"
   ]
  },
  {
   "cell_type": "markdown",
   "metadata": {},
   "source": [
    "# Factoring"
   ]
  },
  {
   "cell_type": "code",
   "execution_count": 166,
   "metadata": {},
   "outputs": [
    {
     "name": "stdout",
     "output_type": "stream",
     "text": [
      "n = 24\n",
      "Square rooted factor = 2\n",
      "Square factor = 4\n",
      "integer:  6\n"
     ]
    }
   ],
   "source": [
    "import math\n",
    "\n",
    "n = 24\n",
    "\n",
    "max_fact = 1\n",
    "\n",
    "upper_lim = math.ceil(math.sqrt(n))\n",
    "\n",
    "for pos_fact in range(1, upper_lim):\n",
    "    if n % (pos_fact**2) == 0:\n",
    "        max_fact = pos_fact\n",
    "\n",
    "print(f\"n = {n}\")\n",
    "print(f\"Square rooted factor = {max_fact}\")\n",
    "print(f\"Square factor = {max_fact**2}\")\n",
    "\n",
    "print(\"integer: \", math.ceil(n / max_fact**2))"
   ]
  },
  {
   "cell_type": "code",
   "execution_count": 165,
   "metadata": {},
   "outputs": [
    {
     "data": {
      "text/latex": [
       "$\\displaystyle 2 \\sqrt{6}$"
      ],
      "text/plain": [
       "2*sqrt(6)"
      ]
     },
     "execution_count": 165,
     "metadata": {},
     "output_type": "execute_result"
    }
   ],
   "source": [
    "# With Sympy\n",
    "import math\n",
    "import sympy\n",
    "from sympy import symbols\n",
    "\n",
    "n = 24\n",
    "\n",
    "upper_lim = math.ceil(math.sqrt(n))\n",
    "max_fact = 1\n",
    "other_fact = 1\n",
    "square_root = 1\n",
    "\n",
    "for pos_fact in range(1, upper_lim):\n",
    "    if n % (pos_fact ** 2) == 0:\n",
    "        max_fact = pos_fact ** 2\n",
    "\n",
    "other_fact = n / max_fact\n",
    "\n",
    "square_root = int(math.sqrt(max_fact))\n",
    "other_fact = int(other_fact)\n",
    "out = square_root * sympy.sqrt(other_fact)\n",
    "\n",
    "out\n"
   ]
  },
  {
   "cell_type": "markdown",
   "metadata": {},
   "source": [
    "# stuff"
   ]
  },
  {
   "cell_type": "code",
   "execution_count": 21,
   "metadata": {},
   "outputs": [
    {
     "name": "stdout",
     "output_type": "stream",
     "text": [
      "Joseph! Hello\n",
      "It is Tuesday\n"
     ]
    }
   ],
   "source": [
    "def greeter(person = \"Person\", greet=\"Hello\", weekday=\"Monday\"):\n",
    "    print(f\"{person}! {greet}\")\n",
    "    print(f\"It is {weekday}\")\n",
    "\n",
    "greeter(\"Joseph\", weekday = \"Tuesday\")\n"
   ]
  },
  {
   "cell_type": "code",
   "execution_count": 28,
   "metadata": {},
   "outputs": [
    {
     "name": "stdout",
     "output_type": "stream",
     "text": [
      "21\n"
     ]
    }
   ],
   "source": [
    "def unpack_calc(*nums):\n",
    "    result = sum(nums)\n",
    "    print(result)\n",
    "\n",
    "unpack_calc(1, 2, 3, 4, 5, 6)"
   ]
  },
  {
   "cell_type": "code",
   "execution_count": 48,
   "metadata": {},
   "outputs": [
    {
     "name": "stdout",
     "output_type": "stream",
     "text": [
      "In 100 days it will be 2024-04-25 11:28:50.375880 \n"
     ]
    }
   ],
   "source": [
    "from datetime import datetime, timedelta\n",
    "\n",
    "def in_n_days(n):\n",
    "    today = datetime.now()\n",
    "    day_delta = timedelta(days = n)\n",
    "    result = today + day_delta\n",
    "    print(f\"In {n} days it will be {result} \")\n",
    "\n",
    "in_n_days(100)"
   ]
  },
  {
   "cell_type": "code",
   "execution_count": 58,
   "metadata": {},
   "outputs": [
    {
     "name": "stdout",
     "output_type": "stream",
     "text": [
      "50\n",
      "True\n",
      "25\n"
     ]
    }
   ],
   "source": [
    "multiplier = 5\n",
    "has_calculated = False\n",
    "\n",
    "def multiply_calculator(mult_param):\n",
    "    global has_calculated\n",
    "    result = multiplier * mult_param\n",
    "    has_calculated = True\n",
    "    return result\n",
    "\n",
    "print(multiply_calculator(10))\n",
    "print(has_calculated)\n",
    "\n",
    "lam_calc = lambda i,j: i * j\n",
    "\n",
    "print(lam_calc(5, 5))"
   ]
  },
  {
   "cell_type": "code",
   "execution_count": 74,
   "metadata": {},
   "outputs": [
    {
     "name": "stdout",
     "output_type": "stream",
     "text": [
      "You input a = 2 and b = 3\n",
      "No it doesn't! a = 3 And b = 2\n"
     ]
    }
   ],
   "source": [
    "a = input(\"a: \")\n",
    "b = input(\"b: \")\n",
    "\n",
    "print(f\"You input a = {a} and b = {b}\")\n",
    "\n",
    "temp = b\n",
    "b = a\n",
    "a = temp\n",
    "\n",
    "print(\"No it doesn\\'t! a = \" + a + \" And b = \" + b)"
   ]
  },
  {
   "cell_type": "code",
   "execution_count": 83,
   "metadata": {},
   "outputs": [
    {
     "name": "stdout",
     "output_type": "stream",
     "text": [
      "Hello\n"
     ]
    }
   ],
   "source": [
    "# one = lambda x: if x > 5 print( \"hello\") else \"bye\" #wrong\n",
    "\n",
    "one = lambda x: \"Above\" if x > 5 else \"Below\"\n",
    "\n",
    "print(one(6))"
   ]
  },
  {
   "cell_type": "code",
   "execution_count": 175,
   "metadata": {},
   "outputs": [
    {
     "name": "stdout",
     "output_type": "stream",
     "text": [
      "Your total is $162.30, which is $54.10 per person\n"
     ]
    }
   ],
   "source": [
    "# Tip Calc\n",
    "\n",
    "bill_total = float(input(\"Enter the total bill amount: \"))\n",
    "tip_percent = float(input(\"Enter tip percent: \"))\n",
    "num_of_people = int(input(\"Enter number of people: \"))\n",
    "\n",
    "bill_total_out = ((bill_total * (tip_percent / 100)) + bill_total)\n",
    "bill_total_out_pp = bill_total_out / num_of_people\n",
    "\n",
    "final_bill = \"{:.2f}\".format(bill_total_out)\n",
    "final_bill_pp = \"{:.2f}\".format(bill_total_out_pp)\n",
    "\n",
    "print(f\"Your total is ${final_bill}, which is ${final_bill_pp} per person\")\n",
    "\n",
    "\n"
   ]
  },
  {
   "cell_type": "code",
   "execution_count": 89,
   "metadata": {},
   "outputs": [
    {
     "name": "stdout",
     "output_type": "stream",
     "text": [
      "6\n"
     ]
    }
   ],
   "source": [
    "name = input(\"Name: \")\n",
    "\n",
    "name_length = len(name)\n",
    "\n",
    "print(name_length)"
   ]
  },
  {
   "cell_type": "code",
   "execution_count": 111,
   "metadata": {},
   "outputs": [
    {
     "name": "stdout",
     "output_type": "stream",
     "text": [
      "67 + 69 = 136\n"
     ]
    }
   ],
   "source": [
    "import random\n",
    "\n",
    "num1 = random.randint(1, 100)\n",
    "num2 = random.randint(1, 100)\n",
    "\n",
    "def add_em(num1, num2):\n",
    "    res = num1 + num2\n",
    "    print(f\"{num1} + {num2} = {res}\")\n",
    "\n",
    "add_em(num1, num2)"
   ]
  },
  {
   "cell_type": "code",
   "execution_count": 140,
   "metadata": {},
   "outputs": [
    {
     "name": "stdout",
     "output_type": "stream",
     "text": [
      "With a weight of 195 and height of 70.8, Your Body Mass Index is: 27.35.\n",
      "You are Overweight! \n"
     ]
    }
   ],
   "source": [
    "# BMI Calc\n",
    "\n",
    "weight = int(input(\"What is your weight? \"))\n",
    "height = round(float(input(\"What is you height? E.G. 5\\'9\\'\\' = 5.9\"))*12, 2)\n",
    "\n",
    "bmi = weight / (height ** 2) * 703 # 703 is the conversion factor for US measurement\n",
    "\n",
    "bmi_round = round(bmi, 2)\n",
    "\n",
    "if bmi_round < 18.5:\n",
    "    result = \"underweight\"\n",
    "elif bmi_round > 18.5 and bmi_round < 24.9:\n",
    "    result = \"Healthy\"\n",
    "elif bmi_round > 25 and bmi_round < 29.9:\n",
    "    result = \"Overweight\"\n",
    "else:\n",
    "    result = \"too fat\"\n",
    "\n",
    "print(f\"With a weight of {weight} and height of {height}, Your Body Mass Index is: {bmi_round}.\")\n",
    "print(f\"You are {result}! \")\n"
   ]
  },
  {
   "cell_type": "code",
   "execution_count": 158,
   "metadata": {},
   "outputs": [
    {
     "name": "stdout",
     "output_type": "stream",
     "text": [
      "If you lived until 95, you have 18615 days 2652 weeks, 612 months, and 51 years left until you die!\n"
     ]
    }
   ],
   "source": [
    "age = int(input(\"What is your age? \"))\n",
    "age_at_death = 95\n",
    "# days_left = (90 * 365) - age * 365\n",
    "# wk_left = (90 * 52) - age * 52\n",
    "# mo_left = (90 * 12) - age * 12\n",
    "# yr_left = 90 - age\n",
    "\n",
    "#better representation\n",
    "yr_left = age_at_death - age\n",
    "days_left = yr_left * 365\n",
    "wk_left = yr_left * 52\n",
    "mo_left = yr_left * 12\n",
    "\n",
    "\n",
    "print(f\"If you lived until {age_at_death}, you have {days_left} days {wk_left} weeks, {mo_left} months, and {yr_left} years left until you die!\")"
   ]
  },
  {
   "cell_type": "code",
   "execution_count": 213,
   "metadata": {},
   "outputs": [
    {
     "name": "stdout",
     "output_type": "stream",
     "text": [
      "Welcome to Pizzapolis -  Home of Pizza Fountain!\n",
      "Your total is: $16\n"
     ]
    }
   ],
   "source": [
    "# Pizza Playland Order System\n",
    "\n",
    "print(\"Welcome to Pizzapolis -  Home of the Pizza Mountain Challenge!\")\n",
    "\n",
    "size = input(\"What size pizza would you like? Enter 'S', 'M', 'L'. \").lower()\n",
    "add_roni = input(\"Would you like to add pepperoni? Enter 'Y', 'N' \").lower()\n",
    "extra_cheese = input(\"Would you like extra cheese, fatty? Enter 'Y', 'N' \").lower()\n",
    "\n",
    "# total = 0\n",
    "# sm = 15\n",
    "# med = 20\n",
    "# lrg = 25\n",
    "# pep_sm = 2\n",
    "# pep_med = 3\n",
    "# x_ch = 1\n",
    "\n",
    "# def small_order():\n",
    "#     if(size == 's' and add_roni == 'y' and extra_cheese == 'y'):\n",
    "#         total = sm + pep_sm + x_ch\n",
    "#         return total\n",
    "#     elif(size == 's' and add_roni == 'y'):\n",
    "#         total = sm + pep_sm\n",
    "#         return total\n",
    "#     elif(size == 's' and extra_cheese == 'y'):\n",
    "#         total = sm + x_ch\n",
    "#         return total\n",
    "#     else:\n",
    "#         total = sm\n",
    "#         return total\n",
    "\n",
    "# def Medium_order():\n",
    "#     if(size == 'm' and add_roni == 'y' and extra_cheese == 'y'):\n",
    "#         total = med + pep_med + x_ch\n",
    "#         return total\n",
    "#     elif(size == 'm' and add_roni == 'y'):\n",
    "#         total = med + pep_med\n",
    "#         return total\n",
    "#     elif(size == 'm' and extra_cheese == 'y'):\n",
    "#         total = med + x_ch\n",
    "#         return total\n",
    "#     else:\n",
    "#         total = med\n",
    "#         return total\n",
    "\n",
    "# def large_order():\n",
    "#     if(size == 'l' and add_roni == 'y' and extra_cheese == 'y'):\n",
    "#         total = lrg + pep_med + x_ch\n",
    "#         return total\n",
    "#     elif(size == 'l' and add_roni == 'y'):\n",
    "#         total = lrg + pep_med\n",
    "#         return total\n",
    "#     elif(size == 'l' and extra_cheese == 'y'):\n",
    "#         total = lrg + x_ch\n",
    "#         return total\n",
    "#     else:\n",
    "#         total = lrg\n",
    "#         return total\n",
    "\n",
    "# if(size == 's'):\n",
    "#     print(f\"Your total comes to ${small_order()}\")\n",
    "# elif(size == 'm'):\n",
    "#     print(f\"Your total comes to ${Medium_order()}\")\n",
    "# elif(size == 'l'):\n",
    "#     print(f\"Your total comes to ${large_order()}\")\n",
    "\n",
    "# or\n",
    "\n",
    "total = 0\n",
    "\n",
    "if size == 's':\n",
    "    total += 15\n",
    "elif size == 'm':\n",
    "    total += 20\n",
    "elif size == 'l':\n",
    "    total += 25\n",
    "\n",
    "if add_roni == 'y':\n",
    "    if size == \"s\":\n",
    "        total += 2\n",
    "    else:\n",
    "        total += 3\n",
    "\n",
    "if extra_cheese == 'y':\n",
    "    total +=1\n",
    "\n",
    "print(f\"Your total is: ${total}\")\n"
   ]
  },
  {
   "cell_type": "code",
   "execution_count": 244,
   "metadata": {},
   "outputs": [
    {
     "name": "stdout",
     "output_type": "stream",
     "text": [
      "T occurs 1 times\n",
      "R occurs 0 times\n",
      "U occurs 0 times\n",
      "E occurs 2 times\n",
      "Total = 3 \n",
      "\n",
      "L occurs 0 times\n",
      "O occurs 2 times\n",
      "V occurs 0 times\n",
      "E occurs 2 times\n",
      "Total = 4 \n",
      "\n",
      "Hi joseph and constance\n",
      "Your total score is: 34.\n"
     ]
    }
   ],
   "source": [
    "name1 = input(\"What is your name? \\n\").lower()\n",
    "name2 = input(\"What is your name? \\n\").lower()\n",
    "\n",
    "# Could have combined names, but pfffft!\n",
    "\n",
    "t_count = name1.count('t')\n",
    "r_count = name1.count('r')\n",
    "u_count = name1.count('u')\n",
    "e_count = name2.count('e')\n",
    "\n",
    "t_count2 = name2.count('t')\n",
    "r_count2 = name2.count('r')\n",
    "u_count2 = name2.count('u')\n",
    "e_count2 = name2.count('e')\n",
    "\n",
    "l_count = name1.count('l')\n",
    "o_count = name1.count('o')\n",
    "v_count = name1.count('v')\n",
    "e_count = name1.count('e')\n",
    "\n",
    "l_count2 = name2.count('l')\n",
    "o_count2 = name2.count('o')\n",
    "v_count2 = name2.count('v')\n",
    "e_count2 = name2.count('e')\n",
    "\n",
    "\n",
    "t_total = t_count + t_count2\n",
    "r_total = r_count + r_count2\n",
    "u_total = u_count + u_count2\n",
    "e_total = e_count + e_count2\n",
    "true_occurs_total = str(t_total + r_total + u_total + e_total)\n",
    "print(f\"T occurs {t_total} times\")\n",
    "print(f\"R occurs {r_total} times\")\n",
    "print(f\"U occurs {u_total} times\")\n",
    "print(f\"E occurs {e_total} times\")\n",
    "print(f\"Total = {true_occurs_total} \\n\")\n",
    "\n",
    "l_total = l_count + l_count2\n",
    "o_total = o_count + o_count2\n",
    "v_total = v_count + v_count2\n",
    "e_total2 = e_count + e_count2\n",
    "love_occurs_total = str(l_total + o_total + v_total + e_total)\n",
    "print(f\"L occurs {l_total} times\")\n",
    "print(f\"O occurs {o_total} times\")\n",
    "print(f\"V occurs {v_total} times\")\n",
    "print(f\"E occurs {e_total2} times\")\n",
    "print(f\"Total = {love_occurs_total} \\n\")\n",
    "\n",
    "total_score =  int(true_occurs_total + love_occurs_total)\n",
    "\n",
    "print(f\"Hi {name1} and {name2}\")\n",
    "\n",
    "if( total_score < 10 or total_score > 90):\n",
    "    print(f\"Your score is: {total_score}. You suck together!\")\n",
    "elif(total_score >= 40 and total_score <= 50):\n",
    "    print(f\"Your score is: {total_score}. Youre alright together\")\n",
    "else:\n",
    "    print(f\"Your total score is: {total_score}.\")\n"
   ]
  },
  {
   "cell_type": "code",
   "execution_count": null,
   "metadata": {},
   "outputs": [],
   "source": []
  }
 ],
 "metadata": {
  "kernelspec": {
   "display_name": "Python 3",
   "language": "python",
   "name": "python3"
  },
  "language_info": {
   "codemirror_mode": {
    "name": "ipython",
    "version": 3
   },
   "file_extension": ".py",
   "mimetype": "text/x-python",
   "name": "python",
   "nbconvert_exporter": "python",
   "pygments_lexer": "ipython3",
   "version": "3.12.1"
  }
 },
 "nbformat": 4,
 "nbformat_minor": 2
}
