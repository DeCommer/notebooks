{
 "cells": [
  {
   "cell_type": "code",
   "execution_count": 4,
   "metadata": {},
   "outputs": [
    {
     "name": "stdout",
     "output_type": "stream",
     "text": [
      "Hello, Joseph! You will be 100 years old in 2080.\n"
     ]
    }
   ],
   "source": [
    "user_name = input('What is your name? ')\n",
    "user_age = int(input('How old are you? '))\n",
    "\n",
    "age_till_100 = 100 - user_age\n",
    "year_at_100 = age_till_100 + 2024\n",
    "\n",
    "print(f\"Hello, {user_name}! You will be 100 years old in {year_at_100}.\")"
   ]
  },
  {
   "cell_type": "code",
   "execution_count": 9,
   "metadata": {},
   "outputs": [
    {
     "name": "stdout",
     "output_type": "stream",
     "text": [
      "92 is an even number.\n"
     ]
    }
   ],
   "source": [
    "even_or_odd = int(input(\"Enter a number and I will tell whether it is even or odd: \"))\n",
    "\n",
    "if(even_or_odd % 2 == 0):\n",
    "    print(f\"{even_or_odd} is an even number.\")\n",
    "else:\n",
    "    print(f\"{even_or_odd} is an odd number.\")"
   ]
  },
  {
   "cell_type": "code",
   "execution_count": 4,
   "metadata": {},
   "outputs": [
    {
     "name": "stdout",
     "output_type": "stream",
     "text": [
      "1\n",
      "2\n",
      "4\n",
      "5\n",
      "10\n",
      "20\n",
      "25\n",
      "50\n",
      "100\n"
     ]
    }
   ],
   "source": [
    "# num = 10 # Can be replaced with a user input\n",
    "# for n in range(1, num+1):\n",
    "#     if num % n == 0:\n",
    "#         print(n)\n",
    "\n",
    "#Using lists\n",
    "div_list = []\n",
    "div_num = int(input(\"Enter a number: \"))\n",
    "\n",
    "for i in range(1, div_num +1):\n",
    "    if div_num % i == 0:\n",
    "        div_list.append(i)\n",
    "        print(i)"
   ]
  },
  {
   "cell_type": "code",
   "execution_count": 52,
   "metadata": {},
   "outputs": [
    {
     "name": "stdout",
     "output_type": "stream",
     "text": [
      "-13C is 8.6F\n"
     ]
    }
   ],
   "source": [
    "c_num = int(input(\"Enter a temp in C to get F:\"))\n",
    "\n",
    "f_num = c_num * 9 / 5 + 32\n",
    "\n",
    "print(f\"{c_num}C is {round(f_num, 2)}F\")\n"
   ]
  },
  {
   "cell_type": "code",
   "execution_count": null,
   "metadata": {},
   "outputs": [],
   "source": []
  }
 ],
 "metadata": {
  "kernelspec": {
   "display_name": "Python 3",
   "language": "python",
   "name": "python3"
  },
  "language_info": {
   "codemirror_mode": {
    "name": "ipython",
    "version": 3
   },
   "file_extension": ".py",
   "mimetype": "text/x-python",
   "name": "python",
   "nbconvert_exporter": "python",
   "pygments_lexer": "ipython3",
   "version": "3.12.1"
  }
 },
 "nbformat": 4,
 "nbformat_minor": 2
}
